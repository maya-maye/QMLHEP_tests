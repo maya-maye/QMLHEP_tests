{
  "nbformat": 4,
  "nbformat_minor": 0,
  "metadata": {
    "colab": {
      "provenance": [],
      "toc_visible": true
    },
    "kernelspec": {
      "name": "python3",
      "display_name": "Python 3"
    },
    "language_info": {
      "name": "python"
    }
  },
  "cells": [
    {
      "cell_type": "markdown",
      "source": [
        "QKAN for signal/background classification"
      ],
      "metadata": {
        "id": "1BzMy6H9N152"
      }
    },
    {
      "cell_type": "code",
      "source": [
        "import tensorflow as tf\n",
        "import tensorflow_quantum as tfq\n",
        "\n",
        "import cirq\n",
        "from cirq.contrib.svg import SVGCircuit\n",
        "import sympy\n",
        "import numpy as np\n",
        "\n",
        "from sklearn.preprocessing import MinMaxScaler\n",
        "from sklearn.metrics import roc_auc_score"
      ],
      "metadata": {
        "id": "qsoyEWENGYZI"
      },
      "execution_count": 2,
      "outputs": []
    },
    {
      "cell_type": "code",
      "source": [
        "data = np.load('QIS_EXAM_200Events.npz', allow_pickle=True)\n",
        "training=data['training_input'].item()\n",
        "testing=data['test_input'].item()\n",
        "X_train_bg = training['0']   # background events (label 0)\n",
        "X_train_sig = training['1']   # signal events (label 1)\n",
        "X_test_bg  = testing['0']\n",
        "X_test_sig = testing['1']"
      ],
      "metadata": {
        "id": "jm7bjSAxHHMc"
      },
      "execution_count": 4,
      "outputs": []
    },
    {
      "cell_type": "code",
      "source": [
        "X_train = np.concatenate([X_train_bg, X_train_sig], axis=0)\n",
        "y_train = np.concatenate([np.zeros(len(X_train_bg)), np.ones(len(X_train_sig))], axis=0)\n",
        "X_test = np.concatenate([X_test_bg, X_test_sig], axis=0)\n",
        "y_test = np.concatenate([np.zeros(len(X_test_bg)), np.ones(len(X_test_sig))], axis=0)\n",
        "\n",
        "scaler = MinMaxScaler(feature_range=(-np.pi, np.pi))\n",
        "X_train_scaled = scaler.fit_transform(X_train)\n",
        "X_test_scaled = scaler.transform(X_test)\n",
        "X_train_bg_scaled = scaler.transform(X_train_bg)\n",
        "X_train_sig_scaled = scaler.transform(X_train_sig)\n",
        "X_test_bg_scaled = scaler.transform(X_test_bg)\n",
        "X_test_sig_scaled = scaler.transform(X_test_sig)\n",
        "\n",
        "n_features = X_train.shape[1]  #5 features"
      ],
      "metadata": {
        "id": "pAjM2CZFNFV7"
      },
      "execution_count": 5,
      "outputs": []
    },
    {
      "cell_type": "code",
      "source": [
        "qubits = [cirq.GridQubit(0, i) for i in range(5)]\n",
        "x_symbols = [sympy.symbols(f'x_{i}') for i in range(5)]\n",
        "theta_symbols = [sympy.symbols(f'theta_{i}') for i in range(5)]\n",
        "\n",
        "circuit = cirq.Circuit()\n",
        "for i, qubit in enumerate(qubits):\n",
        "    circuit.append(cirq.rx(theta_symbols[i])(qubit))  # Trainable parameters\n",
        "\n",
        "for i in range(len(qubits) - 1):\n",
        "    circuit.append(cirq.CNOT(qubits[i], qubits[i+1]))  # Entanglement\n",
        "circuit.append(cirq.CNOT(qubits[4], qubits[0]))\n",
        "\n",
        "for i, qubit in enumerate(qubits):\n",
        "    circuit.append(cirq.ry(x_symbols[i])(qubit))  # another trainable parameters\n",
        "readout = cirq.Z(qubits[0])\n",
        "constant_circuit = tfq.convert_to_tensor([circuit])\n",
        "\n",
        "SVGCircuit(circuit)"
      ],
      "metadata": {
        "colab": {
          "base_uri": "https://localhost:8080/",
          "height": 757
        },
        "id": "WDTdMZQtOqn2",
        "outputId": "add87685-3099-4f09-e2be-834d5d397163"
      },
      "execution_count": 15,
      "outputs": [
        {
          "output_type": "stream",
          "name": "stderr",
          "text": [
            "WARNING:matplotlib.font_manager:findfont: Font family 'Arial' not found.\n",
            "WARNING:matplotlib.font_manager:findfont: Font family 'Arial' not found.\n",
            "WARNING:matplotlib.font_manager:findfont: Font family 'Arial' not found.\n",
            "WARNING:matplotlib.font_manager:findfont: Font family 'Arial' not found.\n",
            "WARNING:matplotlib.font_manager:findfont: Font family 'Arial' not found.\n",
            "WARNING:matplotlib.font_manager:findfont: Font family 'Arial' not found.\n",
            "WARNING:matplotlib.font_manager:findfont: Font family 'Arial' not found.\n",
            "WARNING:matplotlib.font_manager:findfont: Font family 'Arial' not found.\n",
            "WARNING:matplotlib.font_manager:findfont: Font family 'Arial' not found.\n",
            "WARNING:matplotlib.font_manager:findfont: Font family 'Arial' not found.\n",
            "WARNING:matplotlib.font_manager:findfont: Font family 'Arial' not found.\n",
            "WARNING:matplotlib.font_manager:findfont: Font family 'Arial' not found.\n",
            "WARNING:matplotlib.font_manager:findfont: Font family 'Arial' not found.\n",
            "WARNING:matplotlib.font_manager:findfont: Font family 'Arial' not found.\n",
            "WARNING:matplotlib.font_manager:findfont: Font family 'Arial' not found.\n",
            "WARNING:matplotlib.font_manager:findfont: Font family 'Arial' not found.\n",
            "WARNING:matplotlib.font_manager:findfont: Font family 'Arial' not found.\n",
            "WARNING:matplotlib.font_manager:findfont: Font family 'Arial' not found.\n",
            "WARNING:matplotlib.font_manager:findfont: Font family 'Arial' not found.\n",
            "WARNING:matplotlib.font_manager:findfont: Font family 'Arial' not found.\n",
            "WARNING:matplotlib.font_manager:findfont: Font family 'Arial' not found.\n",
            "WARNING:matplotlib.font_manager:findfont: Font family 'Arial' not found.\n",
            "WARNING:matplotlib.font_manager:findfont: Font family 'Arial' not found.\n",
            "WARNING:matplotlib.font_manager:findfont: Font family 'Arial' not found.\n",
            "WARNING:matplotlib.font_manager:findfont: Font family 'Arial' not found.\n"
          ]
        },
        {
          "output_type": "execute_result",
          "data": {
            "text/plain": [
              "<cirq.contrib.svg.svg.SVGCircuit at 0x7f8d26fdd090>"
            ],
            "image/svg+xml": "<svg xmlns=\"http://www.w3.org/2000/svg\" width=\"697.958046875\" height=\"290.0\"><line x1=\"34.7588671875\" x2=\"667.958046875\" y1=\"45.0\" y2=\"45.0\" stroke=\"#1967d2\" stroke-width=\"1\" /><line x1=\"34.7588671875\" x2=\"667.958046875\" y1=\"95.0\" y2=\"95.0\" stroke=\"#1967d2\" stroke-width=\"1\" /><line x1=\"34.7588671875\" x2=\"667.958046875\" y1=\"145.0\" y2=\"145.0\" stroke=\"#1967d2\" stroke-width=\"1\" /><line x1=\"34.7588671875\" x2=\"667.958046875\" y1=\"195.0\" y2=\"195.0\" stroke=\"#1967d2\" stroke-width=\"1\" /><line x1=\"34.7588671875\" x2=\"667.958046875\" y1=\"245.0\" y2=\"245.0\" stroke=\"#1967d2\" stroke-width=\"1\" /><line x1=\"458.39343750000006\" x2=\"568.1757421875001\" y1=\"5.0\" y2=\"5.0\" stroke=\"black\" stroke-width=\"1\" /><line x1=\"458.39343750000006\" x2=\"568.1757421875001\" y1=\"285.0\" y2=\"285.0\" stroke=\"black\" stroke-width=\"1\" /><line x1=\"208.82882812500003\" x2=\"208.82882812500003\" y1=\"45.0\" y2=\"95.0\" stroke=\"black\" stroke-width=\"3\" /><line x1=\"268.82882812500003\" x2=\"268.82882812500003\" y1=\"95.0\" y2=\"145.0\" stroke=\"black\" stroke-width=\"3\" /><line x1=\"338.71998046875\" x2=\"338.71998046875\" y1=\"145.0\" y2=\"195.0\" stroke=\"black\" stroke-width=\"3\" /><line x1=\"418.50228515625\" x2=\"418.50228515625\" y1=\"195.0\" y2=\"245.0\" stroke=\"black\" stroke-width=\"3\" /><line x1=\"478.39343750000006\" x2=\"478.39343750000006\" y1=\"45.0\" y2=\"245.0\" stroke=\"black\" stroke-width=\"3\" /><line x1=\"458.39343750000006\" x2=\"458.39343750000006\" y1=\"5.0\" y2=\"15.0\" stroke=\"black\" stroke-width=\"3\" /><line x1=\"568.1757421875001\" x2=\"568.1757421875001\" y1=\"5.0\" y2=\"15.0\" stroke=\"black\" stroke-width=\"3\" /><line x1=\"458.39343750000006\" x2=\"458.39343750000006\" y1=\"275.0\" y2=\"285.0\" stroke=\"black\" stroke-width=\"3\" /><line x1=\"568.1757421875001\" x2=\"568.1757421875001\" y1=\"275.0\" y2=\"285.0\" stroke=\"black\" stroke-width=\"3\" /><rect x=\"10.0\" y=\"25.0\" width=\"49.517734375\" height=\"40\" stroke=\"black\" fill=\"white\" stroke-width=\"0\" /><text x=\"34.7588671875\" y=\"45.0\" dominant-baseline=\"middle\" text-anchor=\"middle\" font-size=\"14px\" font-family=\"Arial:style=normal:variant=normal:weight=normal:stretch=normal:size=10.0\">(0, 0): </text><rect x=\"10.0\" y=\"75.0\" width=\"49.517734375\" height=\"40\" stroke=\"black\" fill=\"white\" stroke-width=\"0\" /><text x=\"34.7588671875\" y=\"95.0\" dominant-baseline=\"middle\" text-anchor=\"middle\" font-size=\"14px\" font-family=\"Arial:style=normal:variant=normal:weight=normal:stretch=normal:size=10.0\">(0, 1): </text><rect x=\"10.0\" y=\"125.0\" width=\"49.517734375\" height=\"40\" stroke=\"black\" fill=\"white\" stroke-width=\"0\" /><text x=\"34.7588671875\" y=\"145.0\" dominant-baseline=\"middle\" text-anchor=\"middle\" font-size=\"14px\" font-family=\"Arial:style=normal:variant=normal:weight=normal:stretch=normal:size=10.0\">(0, 2): </text><rect x=\"10.0\" y=\"175.0\" width=\"49.517734375\" height=\"40\" stroke=\"black\" fill=\"white\" stroke-width=\"0\" /><text x=\"34.7588671875\" y=\"195.0\" dominant-baseline=\"middle\" text-anchor=\"middle\" font-size=\"14px\" font-family=\"Arial:style=normal:variant=normal:weight=normal:stretch=normal:size=10.0\">(0, 3): </text><rect x=\"10.0\" y=\"225.0\" width=\"49.517734375\" height=\"40\" stroke=\"black\" fill=\"white\" stroke-width=\"0\" /><text x=\"34.7588671875\" y=\"245.0\" dominant-baseline=\"middle\" text-anchor=\"middle\" font-size=\"14px\" font-family=\"Arial:style=normal:variant=normal:weight=normal:stretch=normal:size=10.0\">(0, 4): </text><rect x=\"79.517734375\" y=\"25.0\" width=\"89.31109375000001\" height=\"40\" stroke=\"black\" fill=\"white\" stroke-width=\"1\" /><text x=\"124.17328125\" y=\"45.0\" dominant-baseline=\"middle\" text-anchor=\"middle\" font-size=\"14px\" font-family=\"Arial:style=normal:variant=normal:weight=normal:stretch=normal:size=10.0\">Rx(theta_0)</text><rect x=\"79.517734375\" y=\"75.0\" width=\"89.31109375000001\" height=\"40\" stroke=\"black\" fill=\"white\" stroke-width=\"1\" /><text x=\"124.17328125\" y=\"95.0\" dominant-baseline=\"middle\" text-anchor=\"middle\" font-size=\"14px\" font-family=\"Arial:style=normal:variant=normal:weight=normal:stretch=normal:size=10.0\">Rx(theta_1)</text><rect x=\"79.517734375\" y=\"125.0\" width=\"89.31109375000001\" height=\"40\" stroke=\"black\" fill=\"white\" stroke-width=\"1\" /><text x=\"124.17328125\" y=\"145.0\" dominant-baseline=\"middle\" text-anchor=\"middle\" font-size=\"14px\" font-family=\"Arial:style=normal:variant=normal:weight=normal:stretch=normal:size=10.0\">Rx(theta_2)</text><rect x=\"79.517734375\" y=\"175.0\" width=\"89.31109375000001\" height=\"40\" stroke=\"black\" fill=\"white\" stroke-width=\"1\" /><text x=\"124.17328125\" y=\"195.0\" dominant-baseline=\"middle\" text-anchor=\"middle\" font-size=\"14px\" font-family=\"Arial:style=normal:variant=normal:weight=normal:stretch=normal:size=10.0\">Rx(theta_3)</text><rect x=\"79.517734375\" y=\"225.0\" width=\"89.31109375000001\" height=\"40\" stroke=\"black\" fill=\"white\" stroke-width=\"1\" /><text x=\"124.17328125\" y=\"245.0\" dominant-baseline=\"middle\" text-anchor=\"middle\" font-size=\"14px\" font-family=\"Arial:style=normal:variant=normal:weight=normal:stretch=normal:size=10.0\">Rx(theta_4)</text><circle cx=\"208.82882812500003\" cy=\"45.0\" r=\"10.0\" /><rect x=\"188.82882812500003\" y=\"75.0\" width=\"40\" height=\"40\" stroke=\"black\" fill=\"white\" stroke-width=\"1\" /><text x=\"208.82882812500003\" y=\"95.0\" dominant-baseline=\"middle\" text-anchor=\"middle\" font-size=\"18px\" font-family=\"Arial:style=normal:variant=normal:weight=normal:stretch=normal:size=10.0\">X</text><circle cx=\"268.82882812500003\" cy=\"95.0\" r=\"10.0\" /><rect x=\"248.82882812500003\" y=\"125.0\" width=\"40\" height=\"40\" stroke=\"black\" fill=\"white\" stroke-width=\"1\" /><text x=\"268.82882812500003\" y=\"145.0\" dominant-baseline=\"middle\" text-anchor=\"middle\" font-size=\"18px\" font-family=\"Arial:style=normal:variant=normal:weight=normal:stretch=normal:size=10.0\">X</text><circle cx=\"338.71998046875\" cy=\"145.0\" r=\"10.0\" /><rect x=\"308.82882812500003\" y=\"175.0\" width=\"59.7823046875\" height=\"40\" stroke=\"black\" fill=\"white\" stroke-width=\"1\" /><text x=\"338.71998046875\" y=\"195.0\" dominant-baseline=\"middle\" text-anchor=\"middle\" font-size=\"18px\" font-family=\"Arial:style=normal:variant=normal:weight=normal:stretch=normal:size=10.0\">X</text><rect x=\"308.82882812500003\" y=\"75.0\" width=\"59.7823046875\" height=\"40\" stroke=\"black\" fill=\"white\" stroke-width=\"1\" /><text x=\"338.71998046875\" y=\"95.0\" dominant-baseline=\"middle\" text-anchor=\"middle\" font-size=\"14px\" font-family=\"Arial:style=normal:variant=normal:weight=normal:stretch=normal:size=10.0\">Ry(x_1)</text><circle cx=\"418.50228515625\" cy=\"195.0\" r=\"10.0\" /><rect x=\"388.61113281250005\" y=\"225.0\" width=\"59.7823046875\" height=\"40\" stroke=\"black\" fill=\"white\" stroke-width=\"1\" /><text x=\"418.50228515625\" y=\"245.0\" dominant-baseline=\"middle\" text-anchor=\"middle\" font-size=\"18px\" font-family=\"Arial:style=normal:variant=normal:weight=normal:stretch=normal:size=10.0\">X</text><rect x=\"388.61113281250005\" y=\"125.0\" width=\"59.7823046875\" height=\"40\" stroke=\"black\" fill=\"white\" stroke-width=\"1\" /><text x=\"418.50228515625\" y=\"145.0\" dominant-baseline=\"middle\" text-anchor=\"middle\" font-size=\"14px\" font-family=\"Arial:style=normal:variant=normal:weight=normal:stretch=normal:size=10.0\">Ry(x_2)</text><circle cx=\"478.39343750000006\" cy=\"245.0\" r=\"10.0\" /><rect x=\"458.39343750000006\" y=\"25.0\" width=\"40\" height=\"40\" stroke=\"black\" fill=\"white\" stroke-width=\"1\" /><text x=\"478.39343750000006\" y=\"45.0\" dominant-baseline=\"middle\" text-anchor=\"middle\" font-size=\"18px\" font-family=\"Arial:style=normal:variant=normal:weight=normal:stretch=normal:size=10.0\">X</text><rect x=\"498.39343750000006\" y=\"175.0\" width=\"59.7823046875\" height=\"40\" stroke=\"black\" fill=\"white\" stroke-width=\"1\" /><text x=\"528.28458984375\" y=\"195.0\" dominant-baseline=\"middle\" text-anchor=\"middle\" font-size=\"14px\" font-family=\"Arial:style=normal:variant=normal:weight=normal:stretch=normal:size=10.0\">Ry(x_3)</text><rect x=\"588.1757421875001\" y=\"25.0\" width=\"59.7823046875\" height=\"40\" stroke=\"black\" fill=\"white\" stroke-width=\"1\" /><text x=\"618.0668945312501\" y=\"45.0\" dominant-baseline=\"middle\" text-anchor=\"middle\" font-size=\"14px\" font-family=\"Arial:style=normal:variant=normal:weight=normal:stretch=normal:size=10.0\">Ry(x_0)</text><rect x=\"588.1757421875001\" y=\"225.0\" width=\"59.7823046875\" height=\"40\" stroke=\"black\" fill=\"white\" stroke-width=\"1\" /><text x=\"618.0668945312501\" y=\"245.0\" dominant-baseline=\"middle\" text-anchor=\"middle\" font-size=\"14px\" font-family=\"Arial:style=normal:variant=normal:weight=normal:stretch=normal:size=10.0\">Ry(x_4)</text></svg>"
          },
          "metadata": {},
          "execution_count": 15
        }
      ]
    },
    {
      "cell_type": "code",
      "source": [
        "#generator\n",
        "latent_dim = 4\n",
        "generator_input = tf.keras.layers.Input(shape=(latent_dim,))\n",
        "gen_dense = tf.keras.layers.Dense(n_features, activation='tanh')(generator_input)\n",
        "generated_angles = tf.keras.layers.Lambda(lambda x: (x + 1) * (np.pi / 2))(gen_dense)\n",
        "\n",
        "generator = tf.keras.Model(generator_input, generated_angles)\n",
        "gen_optimizer = tf.keras.optimizers.Adam(learning_rate=0.0002)\n",
        "generator.compile(optimizer=gen_optimizer, loss='binary_crossentropy', metrics=['accuracy'])"
      ],
      "metadata": {
        "id": "qmK7RZUAB9VR"
      },
      "execution_count": 7,
      "outputs": []
    },
    {
      "cell_type": "code",
      "source": [
        "#discriminator\n",
        "controller = tf.keras.Sequential(\n",
        "    [tf.keras.layers.Dense(64, activation='relu'),\n",
        "     tf.keras.layers.BatchNormalization(),\n",
        "     tf.keras.layers.Dropout(0.2),\n",
        "     tf.keras.layers.Dense(32, activation='elu'),\n",
        "     tf.keras.layers.BatchNormalization(),\n",
        "     tf.keras.layers.Dropout(0.2),\n",
        "     tf.keras.layers.Dense(10)])\n",
        "\n",
        "circuit_input = tf.keras.layers.Input(shape=(), dtype=tf.string, name='circuit')\n",
        "data_input = tf.keras.layers.Input(shape=(5,), dtype=tf.float32, name='classical_input')\n",
        "dense_2 = controller(data_input)\n",
        "\n",
        "quantum_layer = tfq.layers.ControlledPQC(\n",
        "    circuit,\n",
        "    readout,\n",
        "    backend=cirq.Simulator(),\n",
        "    differentiator=tfq.differentiators.ParameterShift()\n",
        ")\n",
        "\n",
        "q_out = quantum_layer([circuit_input, dense_2])\n",
        "# x = tf.keras.layers.Dense(128, activation='relu')(q_out)\n",
        "# x = tf.keras.layers.BatchNormalization()(x)\n",
        "# x = tf.keras.layers.Dropout(0.3)(x)\n",
        "x = tf.keras.layers.Dense(64, activation='relu')(q_out)\n",
        "x = tf.keras.layers.BatchNormalization()(x)\n",
        "x = tf.keras.layers.Dropout(0.2)(x)\n",
        "x = tf.keras.layers.Dense(32, activation='relu')(x)\n",
        "output = tf.keras.layers.Dense(1, activation='sigmoid')(x)\n",
        "discriminator = tf.keras.Model(inputs=[circuit_input, data_input],\n",
        "                       outputs=output)\n",
        "\n",
        "disc_optimizer = tf.keras.optimizers.AdamW(learning_rate=0.0005, weight_decay=1e-4)\n",
        "\n",
        "discriminator.compile(optimizer=disc_optimizer, loss=tf.keras.losses.BinaryCrossentropy(), metrics=['accuracy'])"
      ],
      "metadata": {
        "id": "t85RSnEpM7x_"
      },
      "execution_count": 83,
      "outputs": []
    },
    {
      "cell_type": "code",
      "source": [
        "discriminator.summary()"
      ],
      "metadata": {
        "colab": {
          "base_uri": "https://localhost:8080/"
        },
        "id": "uHBff64x3II3",
        "outputId": "1495548b-4d72-4b6c-b092-bf3d66047472"
      },
      "execution_count": 9,
      "outputs": [
        {
          "output_type": "stream",
          "name": "stdout",
          "text": [
            "Model: \"model_1\"\n",
            "__________________________________________________________________________________________________\n",
            " Layer (type)                Output Shape                 Param #   Connected to                  \n",
            "==================================================================================================\n",
            " classical_input (InputLaye  [(None, 5)]                  0         []                            \n",
            " r)                                                                                               \n",
            "                                                                                                  \n",
            " circuit (InputLayer)        [(None,)]                    0         []                            \n",
            "                                                                                                  \n",
            " sequential (Sequential)     (None, 10)                   3178      ['classical_input[0][0]']     \n",
            "                                                                                                  \n",
            " controlled_pqc (Controlled  (None, 2)                    0         ['circuit[0][0]',             \n",
            " PQC)                                                                'sequential[0][0]']          \n",
            "                                                                                                  \n",
            " dense_4 (Dense)             (None, 64)                   192       ['controlled_pqc[0][0]']      \n",
            "                                                                                                  \n",
            " batch_normalization_2 (Bat  (None, 64)                   256       ['dense_4[0][0]']             \n",
            " chNormalization)                                                                                 \n",
            "                                                                                                  \n",
            " dropout_2 (Dropout)         (None, 64)                   0         ['batch_normalization_2[0][0]'\n",
            "                                                                    ]                             \n",
            "                                                                                                  \n",
            " dense_5 (Dense)             (None, 32)                   2080      ['dropout_2[0][0]']           \n",
            "                                                                                                  \n",
            " dense_6 (Dense)             (None, 1)                    33        ['dense_5[0][0]']             \n",
            "                                                                                                  \n",
            "==================================================================================================\n",
            "Total params: 5739 (22.42 KB)\n",
            "Trainable params: 5419 (21.17 KB)\n",
            "Non-trainable params: 320 (1.25 KB)\n",
            "__________________________________________________________________________________________________\n"
          ]
        }
      ]
    },
    {
      "cell_type": "code",
      "source": [
        "bce_loss = tf.keras.losses.BinaryCrossentropy()\n",
        "batch_size = 16\n",
        "epochs = 12\n",
        "n_sig = X_train_sig_scaled.shape[0]\n",
        "n_bg  = X_train_bg_scaled.shape[0]\n",
        "best_val_loss = float('inf')\n",
        "patience = 5\n",
        "wait = 0"
      ],
      "metadata": {
        "id": "lx2cax-xNiYN"
      },
      "execution_count": 84,
      "outputs": []
    },
    {
      "cell_type": "code",
      "source": [
        "for epoch in range(epochs):\n",
        "    num_batches = min(n_sig, n_bg) // batch_size\n",
        "    train_loss = 0\n",
        "\n",
        "    for _ in range(num_batches):\n",
        "        sig_indices = np.random.choice(n_sig, batch_size, replace=False)\n",
        "        bg_indices  = np.random.choice(n_bg, batch_size, replace=False)\n",
        "        batch_sig = X_train_sig_scaled[sig_indices]\n",
        "        batch_bg  = X_train_bg_scaled[bg_indices]\n",
        "        batch_circuits = tf.repeat(constant_circuit, repeats=batch_size, axis=0)\n",
        "\n",
        "        #update discriminator\n",
        "        with tf.GradientTape() as tape_disc:\n",
        "            preds_sig  = discriminator([batch_circuits,batch_sig])\n",
        "            preds_bg   = discriminator([batch_circuits,batch_bg])\n",
        "            loss_sig   = bce_loss(tf.ones_like(preds_sig), preds_sig)\n",
        "            loss_bg    = bce_loss(tf.zeros_like(preds_bg), preds_bg)\n",
        "            disc_loss  = loss_sig + loss_bg\n",
        "        gradients_disc = tape_disc.gradient(disc_loss, discriminator.trainable_variables)\n",
        "        disc_optimizer.apply_gradients(zip(gradients_disc, discriminator.trainable_variables))\n",
        "        # train_loss += disc_loss.numpy()\n",
        "\n",
        "        #Update Generator\n",
        "        with tf.GradientTape() as tape_gen:\n",
        "            noise = tf.random.normal([batch_size, latent_dim])\n",
        "            fake_angles = generator(noise)\n",
        "            batch_circuits = tf.repeat(constant_circuit, repeats=batch_size, axis=0)\n",
        "            preds_fake = discriminator([batch_circuits,fake_angles])\n",
        "            gen_loss = bce_loss(tf.ones_like(preds_fake), preds_fake)+0.00001*bce_loss(tf.ones_like(fake_angles), fake_angles)\n",
        "        # print(tape_gen.watched_variables())\n",
        "        gradients_gen = tape_gen.gradient(gen_loss, generator.trainable_variables)\n",
        "        gen_optimizer.apply_gradients(zip(gradients_gen, generator.trainable_variables))\n",
        "\n",
        "    # Validation Step\n",
        "    # train_loss /= num_batches\n",
        "    # val_sig_indices = np.random.choice(len(X_train_sig_scaled), batch_size, replace=False)\n",
        "    # val_bg_indices  = np.random.choice(len(X_train_bg_scaled), batch_size, replace=False)\n",
        "    # val_sig = X_train_sig_scaled[val_sig_indices]\n",
        "    # val_bg  = X_train_bg_scaled[val_bg_indices]\n",
        "\n",
        "    # val_circuits = tf.repeat(constant_circuit, repeats=batch_size, axis=0)\n",
        "\n",
        "    # preds_val_sig = discriminator([val_circuits, val_sig])\n",
        "    # preds_val_bg  = discriminator([val_circuits, val_bg])\n",
        "\n",
        "    # loss_val_sig = bce_loss(tf.ones_like(preds_val_sig), preds_val_sig)\n",
        "    # loss_val_bg  = bce_loss(tf.zeros_like(preds_val_bg), preds_val_bg)\n",
        "    # val_loss = loss_val_sig + loss_val_bg\n",
        "\n",
        "    # print(f\"Epoch {epoch+1}: Train Loss = {train_loss:.4f}, Val Loss = {val_loss:.4f}\")\n",
        "\n",
        "    # Early Stopping Check\n",
        "    # if val_loss < best_val_loss:\n",
        "    #     best_val_loss = val_loss\n",
        "    #     wait = 0\n",
        "    #     print(\"Validation loss improved. \")\n",
        "    #     discriminator.save_weights(\"best_discriminator.h5\")\n",
        "    # else:\n",
        "    #     wait += 1\n",
        "    #     print(f\"No improvement in validation loss for {wait}/{patience} epochs.\")\n",
        "\n",
        "    # if wait >= patience:\n",
        "    #     print(\"Early stopping triggered!\")\n",
        "    #     discriminator.load_weights(\"best_discriminator.h5\")\n",
        "    #     break\n",
        "\n",
        "    print(f\"Epoch {epoch}: Discriminator Loss = {disc_loss.numpy():.4f}, Generator Loss = {gen_loss.numpy():.4f}\")\n"
      ],
      "metadata": {
        "colab": {
          "base_uri": "https://localhost:8080/"
        },
        "id": "1W7eDboq5fON",
        "outputId": "5c762a5e-9cf3-4d49-9e31-75c403f39b49"
      },
      "execution_count": 85,
      "outputs": [
        {
          "output_type": "stream",
          "name": "stdout",
          "text": [
            "Epoch 0: Discriminator Loss = 1.3857, Generator Loss = 0.6886\n",
            "Epoch 1: Discriminator Loss = 1.3839, Generator Loss = 0.6825\n",
            "Epoch 2: Discriminator Loss = 1.3730, Generator Loss = 0.6765\n",
            "Epoch 3: Discriminator Loss = 1.3561, Generator Loss = 0.6589\n",
            "Epoch 4: Discriminator Loss = 1.3455, Generator Loss = 0.6538\n",
            "Epoch 5: Discriminator Loss = 1.3152, Generator Loss = 0.6467\n",
            "Epoch 6: Discriminator Loss = 1.2781, Generator Loss = 0.6286\n",
            "Epoch 7: Discriminator Loss = 1.2992, Generator Loss = 0.6118\n",
            "Epoch 8: Discriminator Loss = 1.2637, Generator Loss = 0.5865\n",
            "Epoch 9: Discriminator Loss = 1.2198, Generator Loss = 0.5889\n",
            "Epoch 10: Discriminator Loss = 1.1808, Generator Loss = 0.5688\n",
            "Epoch 11: Discriminator Loss = 1.1603, Generator Loss = 0.5560\n"
          ]
        }
      ]
    },
    {
      "cell_type": "code",
      "source": [
        "test_batch_size = X_test_scaled.shape[0]\n",
        "test_circuits = tf.repeat(constant_circuit, repeats=test_batch_size, axis=0)\n",
        "\n",
        "# circ_fake=[circ(X_test_scaled[i]) for i in range(test_batch_size)]\n",
        "# circ_fake=tf.stack(circ_fake)\n",
        "test_preds = discriminator([test_circuits,X_test_scaled])\n",
        "test_preds = tf.squeeze(test_preds).numpy()\n",
        "test_accuracy = np.mean((test_preds > 0.5) == y_test)\n",
        "test_auc = roc_auc_score(y_test, test_preds)\n",
        "print(f\"\\nTest Accuracy: {test_accuracy:.4f}\")\n",
        "print(f\"Test ROC AUC: {test_auc:.4f}\")"
      ],
      "metadata": {
        "colab": {
          "base_uri": "https://localhost:8080/"
        },
        "id": "VUFIqUrTOwbB",
        "outputId": "a5946026-c375-4beb-8eca-1b3d45d9d140"
      },
      "execution_count": 86,
      "outputs": [
        {
          "output_type": "stream",
          "name": "stdout",
          "text": [
            "\n",
            "Test Accuracy: 0.7200\n",
            "Test ROC AUC: 0.7820\n"
          ]
        }
      ]
    },
    {
      "cell_type": "code",
      "source": [
        "import matplotlib.pyplot as plt\n",
        "from sklearn.metrics import roc_curve, auc\n",
        "\n",
        "fpr, tpr, _ = roc_curve(y_test, test_preds)\n",
        "roc_auc = auc(fpr, tpr)\n",
        "\n",
        "plt.figure(figsize=(7, 5))\n",
        "plt.plot(fpr, tpr, color='blue', lw=2, label=f'ROC Curve (AUC = {roc_auc:.4f})')\n",
        "plt.plot([0, 1], [0, 1], color='gray', linestyle='--', lw=1)\n",
        "plt.xlim([0.0, 1.0])\n",
        "plt.ylim([0.0, 1.05])\n",
        "plt.xlabel('False Positive Rate')\n",
        "plt.ylabel('True Positive Rate')\n",
        "plt.title('Receiver Operating Characteristic (ROC) Curve')\n",
        "plt.legend(loc='lower right')\n",
        "plt.grid()\n",
        "plt.show()\n"
      ],
      "metadata": {
        "colab": {
          "base_uri": "https://localhost:8080/",
          "height": 487
        },
        "id": "8BnThieu7bJV",
        "outputId": "2652f68e-4685-4444-dd2e-1d457e043dce"
      },
      "execution_count": 90,
      "outputs": [
        {
          "output_type": "display_data",
          "data": {
            "text/plain": [
              "<Figure size 700x500 with 1 Axes>"
            ],
            "image/png": "[encoded data removed]"
          },
          "metadata": {}
        }
      ]
    },
    {
      "cell_type": "markdown",
      "source": [
        "Note:\n",
        "\n",
        "I think QGAN is not the best model to use in terms of classification task. Although we can use the generator to generate more training data to train the discriminator to have better understanding of the feature and become more accurate in classification, when I implemented that, I noticed that learning to distinguish real and fake data does not help dimincriminator in seperating signal and background as much. So I decided to focus on fine tuning the discriminator and just use the discriminator to classify background/signal instead of fake/real. However, QGAN is certainly useful to explore. For example we can use QGAN to create an approximate QRAM for quantum neural networks from the paper on EQ-GAN."
      ],
      "metadata": {
        "id": "fQf54dNqgfgm"
      }
    },
    {
      "cell_type": "markdown",
      "source": [
        "Things I considere in fine tuning:\n",
        "\n",
        "\n",
        "*   Number of trainable parameter layer of quantum circuit\n",
        "*   Number of layer for classical MLP\n",
        "*   Parameters for classical MLP, such as drop out rate, batch normalization, or number of layer needed. I reduced the number of layer and added drop out to reduce overfitting\n",
        "*   Learning rate, batch size, and early stopping\n",
        "\n",
        "\n",
        "\n",
        " Some ideas to further fine tune the model:\n",
        "\n",
        "\n",
        "*   To further reduce overfitting, we can introduce some noise in the training data, or examine the features provided and modify them, or leverage the generator to provide fake training data to help the discriminator learn more underlying trends.\n",
        "*   Also, we can modify the loss function to increase the confidence of the classification.\n",
        "*   We can plot the distribution of training data to learn more about each feature and modify the weight of each.\n",
        "\n",
        "\n"
      ],
      "metadata": {
        "id": "zJ_FZ7V-GqIU"
      }
    },
    {
      "cell_type": "code",
      "source": [],
      "metadata": {
        "id": "EMGnV93ah-Ka"
      },
      "execution_count": null,
      "outputs": []
    }
  ]
}
